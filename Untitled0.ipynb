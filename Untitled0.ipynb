{
  "nbformat": 4,
  "nbformat_minor": 0,
  "metadata": {
    "colab": {
      "provenance": []
    },
    "kernelspec": {
      "name": "python3",
      "display_name": "Python 3"
    },
    "language_info": {
      "name": "python"
    }
  },
  "cells": [
    {
      "cell_type": "code",
      "execution_count": 2,
      "metadata": {
        "colab": {
          "base_uri": "https://localhost:8080/"
        },
        "id": "g-yikR0C8IvM",
        "outputId": "202a85f7-aa31-4011-933e-e0109cd9f7ee"
      },
      "outputs": [
        {
          "output_type": "stream",
          "name": "stdout",
          "text": [
            "Original List =  [1, 2, 3, 4, 5]\n",
            "\n",
            " Original Dictionary =  {'Car': 90000, 'Bike': 50000, 'Cycle': 3000}\n",
            "\n",
            " Original Set =  {6, 7, 8, 9, 10}\n",
            "\n",
            " List after adding element =  [1, 2, 3, 4, 5, 99]\n",
            "\n",
            " List after removing element =  [1, 2, 4, 5, 99]\n",
            "\n",
            " List after modifying element =  [1, 2, 4, 100, 99]\n",
            "\n",
            " Dictionary after adding a key-value pair :  {'Car': 90000, 'Bike': 50000, 'Cycle': 3000, 'Truck': 100000}\n",
            "\n",
            " Dictionary after Deleting a key-value pair :  {'Car': 90000, 'Bike': 50000, 'Truck': 100000}\n",
            "\n",
            " Dictionary after Updating Data :  {'Car': 90000, 'Bike': 50000, 'Truck': 100000}\n",
            "\n",
            " Set after removing 10 :  {6, 7, 8, 9}\n",
            "\n",
            " Set after adding 1000 : {6, 7, 8, 9, 1000}\n",
            "\n",
            " Final List :  [1, 2, 4, 100, 99]\n",
            "\n",
            " Final Dictionary :  {'Car': 90000, 'Bike': 50000, 'Truck': 100000}\n",
            "\n",
            " Final Set :  {6, 7, 8, 9, 1000}\n"
          ]
        }
      ],
      "source": [
        "#Creating List , Set and Dictionary\n",
        "\n",
        "List = [1,2,3,4,5]\n",
        "Dictionary = {'Car': 90000, 'Bike':50000, 'Cycle' : 3000}\n",
        "Set ={6,7,8,9,10}\n",
        "\n",
        "#Print original values Before performing Operation\n",
        "print(\"Original List = \",List)\n",
        "print(\"\\n Original Dictionary = \",Dictionary)\n",
        "print(\"\\n Original Set = \",Set)\n",
        "\n",
        "#Perform Operations on List\n",
        "\n",
        "#1.Adding element at last of the List\n",
        "List.append(99)\n",
        "print(\"\\n List after adding element = \", List)\n",
        "\n",
        "#2.Removing Element from the List\n",
        "List.remove(3)\n",
        "print(\"\\n List after removing element = \", List)\n",
        "\n",
        "#3.Modifying elements of the List\n",
        "List[3] = 100\n",
        "print(\"\\n List after modifying element = \", List)\n",
        "\n",
        "#Perform Operation on Dictionary\n",
        "\n",
        "#1.Adding a key-value pair\n",
        "Dictionary['Truck'] = 100000\n",
        "print(\"\\n Dictionary after adding a key-value pair : \", Dictionary)\n",
        "\n",
        "#2.Deleting Data from Dictionary\n",
        "del Dictionary['Cycle']\n",
        "print(\"\\n Dictionary after Deleting a key-value pair : \", Dictionary)\n",
        "\n",
        "#3.Modifying the Data in Dictionary\n",
        "Dictionary[\"Bike\"] = 50000\n",
        "print(\"\\n Dictionary after Updating Data : \", Dictionary)\n",
        "\n",
        "\n",
        "#Perform Operations on Set\n",
        "\n",
        "#1.Remove Element\n",
        "Set.remove(10)\n",
        "print(\"\\n Set after removing 10 : \", Set)\n",
        "\n",
        "#2.Adding Element\n",
        "Set.add(1000)\n",
        "print(\"\\n Set after adding 1000 :\", Set)\n",
        "\n",
        "#Printing final Outputs after operations\n",
        "\n",
        "print(\"\\n Final List : \", List)\n",
        "print(\"\\n Final Dictionary : \", Dictionary)\n",
        "print(\"\\n Final Set : \", Set)"
      ]
    }
  ]
}